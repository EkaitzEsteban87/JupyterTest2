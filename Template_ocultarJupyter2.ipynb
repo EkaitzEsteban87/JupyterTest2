{
 "cells": [
  {
   "cell_type": "raw",
   "metadata": {},
   "source": [
    "<script>\n",
    "  jQuery(document).ready(function($) {  \n",
    "  \n",
    "  $(window).on('load', function(){\n",
    "    $('#preloader').fadeOut('slow',function(){$(this).remove();});\n",
    "  });\n",
    "  \n",
    "  });\n",
    "</script>\n",
    "\n",
    "<style type=\"text/css\">\n",
    "  div#preloader { position: fixed; \n",
    "      left: 0; \n",
    "      top: 0; \n",
    "      z-index: 999; \n",
    "      width: 100%; \n",
    "      height: 100%; \n",
    "      overflow: visible; \n",
    "      background: #fff url('http://preloaders.net/preloaders/720/Moving%20line.gif') no-repeat center center; \n",
    "  }\n",
    "\n",
    "</style>\n",
    "\n",
    "<div id=\"preloader\">\n",
    "\n",
    "</div>"
   ]
  },
  {
   "cell_type": "raw",
   "metadata": {},
   "source": [
    "<script>\n",
    "  function code_toggle() {\n",
    "    if (code_shown){\n",
    "      $('div.input').hide('500');\n",
    "      $('#toggleButton').val('Show Code')\n",
    "    } else {\n",
    "      $('div.input').show('500');\n",
    "      $('#toggleButton').val('Hide Code')\n",
    "    }\n",
    "    code_shown = !code_shown\n",
    "  } \n",
    "  \n",
    "  $( document ).ready(function(){\n",
    "    code_shown=false; \n",
    "    $('div.input').hide()\n",
    "  });\n",
    "</script>"
   ]
  },
  {
   "cell_type": "markdown",
   "metadata": {},
   "source": [
    "<h1 style=\"text-align: center;\" markdown=\"1\">Mostrar graficos en 3D y sus proyecciones</h1>\n",
    "\n",
    "En esta pagina se muestran graficos en 3D y sus correspondientes proyecciones en 2D (falta realizarlos dinamicamente)."
   ]
  },
  {
   "cell_type": "code",
   "execution_count": 1,
   "metadata": {},
   "outputs": [
    {
     "data": {
      "text/html": [
       "ï»¿<!DOCTYPE html>\n",
       "<html>\n",
       "<head>\n",
       "  <!-- Plotly.js -->\n",
       "  <script src=\"https://cdn.plot.ly/plotly-latest.min.js\"></script>\n",
       "  <script src=\"https://cdnjs.cloudflare.com/ajax/libs/jquery/1.11.2/jquery.min.js\"></script>\n",
       "</head>\n",
       "\n",
       "<body>\n",
       "  \n",
       "  <div id=\"myDiv\" style=\"width: 480px; height: 400px;\"><!-- Plotly chart will be drawn inside this DIV --></div>\n",
       "  <script>\n",
       "    var D3 = Plotly.d3;\n",
       "var gd3 = D3.select('#myDiv');\n",
       "var graph = gd3.node();\n",
       "\n",
       "var trace1 = {\n",
       "  x: [1, 2, 3, 4], \n",
       "  y: [10, 15, 13, 17], \n",
       "  type: 'scatter'\n",
       "};\n",
       "var trace2 = {\n",
       "  x: [1, 2, 3, 4], \n",
       "  y: [16, 5, 11, 9], \n",
       "  type: 'scatter'\n",
       "};\n",
       "var data = [trace1, trace2];\n",
       "var layout = {\n",
       "   dragmode: 'select'\n",
       "};\n",
       "Plotly.newPlot('myDiv', data, layout);\n",
       "\n",
       "// HANDLER FOR plotly_selected EVENT\n",
       "// \t\tgraph.on('plotly_selected', function(eventData){\n",
       "//  alert('Selection performed');\n",
       "      \n",
       "//     });\n",
       "// graph.on('plotly_selecting', function(eventData){\n",
       "//  alert('Selection in process..');\n",
       "      \n",
       "//     });\n",
       "// $('#myDiv').on({ 'touchmove' :  function(){ \n",
       "//     alert('Touch move performed'); \n",
       "//     // $( \"#myDiv\" ).trigger( \"dragstart\");  \n",
       "//   // $( \"#myDiv\" ).trigger( \"plotly_selected\"); \n",
       "//   } \n",
       "//  });\n",
       "\n",
       "// $('#myDiv').on({ 'touchstart' :  function(){ \n",
       "//     alert('Touch start performed'); \n",
       "//     // $( \"#myDiv\" ).trigger( \"dragstart\");  \n",
       "//   // $( \"#myDiv\" ).trigger( \"plotly_selected\"); \n",
       "//   } \n",
       "//  });\n",
       "\n",
       "// $('#myDiv').on({ 'touchend' :  function(){ \n",
       "//     alert('Touch end performed'); \n",
       "//     // $( \"#myDiv\" ).trigger( \"dragstart\");  \n",
       "//   // $( \"#myDiv\" ).trigger( \"plotly_selected\"); \n",
       "//   } \n",
       "//  });\n",
       "  \n",
       "// $('#myDiv').on({ 'mousedown' :  function(){ \n",
       "//     alert('mousedown performed'); \n",
       "//     // $( \"#myDiv\" ).trigger( \"dragstart\");  \n",
       "//   // $( \"#myDiv\" ).trigger( \"plotly_selected\"); \n",
       "//   } \n",
       "//  });\n",
       "\n",
       "\n",
       "function touchHandler(event)\n",
       "{\n",
       "    var touches = event.changedTouches,\n",
       "        first = touches[0],\n",
       "        type = \"\";\n",
       "    switch(event.type)\n",
       "    {\n",
       "        case \"touchstart\": {\n",
       "          type = \"mousedown\"; \n",
       "          $('#myDiv').trigger( \"mousedown\");\n",
       "          break;\n",
       "        }\n",
       "        case \"touchmove\": {\n",
       "          type = \"mousemove\"; \n",
       "          $('#myDiv').trigger( \"mousemove\");\n",
       "          break;\n",
       "        }       \n",
       "        case \"touchend\": {\n",
       "          type = \"mouseup\"; \n",
       "          $('#myDiv').trigger( \"mouseup\");\n",
       "          break;\n",
       "        } \n",
       "        default:           return;\n",
       "    }\n",
       "\n",
       "    // initMouseEvent(type, canBubble, cancelable, view, clickCount, \n",
       "    //                screenX, screenY, clientX, clientY, ctrlKey, \n",
       "    //                altKey, shiftKey, metaKey, button, relatedTarget);\n",
       "\n",
       "//     var simulatedEvent = document.createEvent(\"MouseEvent\");\n",
       "//     simulatedEvent.initMouseEvent(type, true, true, window, 1, \n",
       "//                                   first.screenX, first.screenY, \n",
       "//                                   first.clientX, first.clientY, false, \n",
       "//                                   false, false, false, 0/*left*/, null);\n",
       "\n",
       "//     first.target.dispatchEvent(simulatedEvent);\n",
       "//     event.preventDefault();\n",
       "}\n",
       "\n",
       "function init() \n",
       "{\n",
       "    document.getElementById('myDiv').addEventListener(\"touchstart\", touchHandler, true);\n",
       "    document.getElementById('myDiv').addEventListener(\"touchmove\", touchHandler, true);\n",
       "    document.getElementById('myDiv').addEventListener(\"touchend\", touchHandler, true);\n",
       "    document.getElementById('myDiv').addEventListener(\"touchcancel\", touchHandler, true);    \n",
       "}\n",
       "init();\n",
       "  </script>\n",
       "</body>\n",
       "</html>\n"
      ],
      "text/plain": [
       "<IPython.core.display.HTML object>"
      ]
     },
     "execution_count": 1,
     "metadata": {},
     "output_type": "execute_result"
    }
   ],
   "source": [
    "from IPython.display import HTML\n",
    "HTML(filename=\"C:/Users/eesteban/Desktop/Pruebas_001.html\")"
   ]
  },
  {
   "cell_type": "markdown",
   "metadata": {},
   "source": [
    "<h1 style=\"text-align: center;\" markdown=\"1\">Conclusiones</h1>\n",
    "\n",
    "Los resultados obtenidos son: bla bla bla..."
   ]
  },
  {
   "cell_type": "raw",
   "metadata": {},
   "source": [
    "<script>\n",
    "  $(document).ready(function(){\n",
    "    $('div.prompt').hide();\n",
    "    $('div.back-to-top').hide();\n",
    "    $('nav#menubar').hide();\n",
    "    $('.breadcrumb').hide();\n",
    "    $('.hidden-print').hide();\n",
    "  });\n",
    "</script>\n",
    "\n",
    "<footer id=\"attribution\" style=\"float:right; color:#999; background:#fff;\">\n",
    "Created by PDSA.\n",
    "</footer>"
   ]
  },
  {
   "cell_type": "code",
   "execution_count": 2,
   "metadata": {},
   "outputs": [],
   "source": [
    "# Cargar una hoja de datos\n",
    "# xl = pd.ExcelFile(\"Test_001.xlsx\")\n",
    "# data_file = pd.read_excel(open('C:\\Dropbox (MGEP)\\Ikerketa\\PDSA\\Anaconda_Jupyter\\Test_002.xlsx','rb'), sheet_name='Hoja1')"
   ]
  }
 ],
 "metadata": {
  "kernelspec": {
   "display_name": "Python 3",
   "language": "python",
   "name": "python3"
  },
  "language_info": {
   "codemirror_mode": {
    "name": "ipython",
    "version": 3
   },
   "file_extension": ".py",
   "mimetype": "text/x-python",
   "name": "python",
   "nbconvert_exporter": "python",
   "pygments_lexer": "ipython3",
   "version": "3.6.6"
  },
  "widgets": {
   "application/vnd.jupyter.widget-state+json": {
    "state": {},
    "version_major": 2,
    "version_minor": 0
   }
  }
 },
 "nbformat": 4,
 "nbformat_minor": 2
}
